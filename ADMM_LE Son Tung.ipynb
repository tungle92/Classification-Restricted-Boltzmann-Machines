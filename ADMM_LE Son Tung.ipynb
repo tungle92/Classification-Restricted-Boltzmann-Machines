{
 "cells": [
  {
   "cell_type": "markdown",
   "metadata": {
    "id": "O9lO3HkmMuDi"
   },
   "source": [
    "# TP d'optimisation\n",
    "## Méthodes d'optimisation pour la régression logistique pénalisée lasso"
   ]
  },
  {
   "cell_type": "markdown",
   "metadata": {
    "id": "XNdYXrWXMuDj"
   },
   "source": [
    "On veut comparer les algorithmes ADMM et SGD sur la régression logistique pénalisée lasso."
   ]
  },
  {
   "cell_type": "markdown",
   "metadata": {
    "id": "XwKMRgOIMuDl"
   },
   "source": [
    "On considère que l'on observe les couples $(y_i,X_i)$ avec $y_i \\in \\{ -1, 1\\}$ et $X_i \\in \\mathbb R^p$ dont la vraisemblance au point $\\beta \\in \\mathbb R^p$ est donnée par \n",
    "$$\n",
    "\\prod_{i=1}^n \\frac{1}{1+\\exp(-y_i X_i \\beta)}.\n",
    "$$"
   ]
  },
  {
   "cell_type": "markdown",
   "metadata": {
    "id": "DwRfshGhMuDm"
   },
   "source": [
    "On veut donc résoudre\n",
    "$$\n",
    "\\arg\\min_\\beta \\frac{1}{n}\\sum_{i=1}^n \\log\\big(1 + \\exp(-y_i X_i \\beta) \\big)+  \\lambda\\| \\beta \\|_{\\ell_1}\n",
    "$$\n",
    "ou\n",
    "$$\n",
    "-\\arg\\min_\\beta \\frac{1}{n}\\sum_{i=1}^n \\log\\big(\\frac{1}{1 + \\exp(-y_i X_i \\beta)} \\big)+  \\lambda\\| \\beta \\|_{\\ell_1}\n",
    "=-\\arg\\min_\\beta \\frac{1}{n}\\sum_{i=1}^n \\log\\big(\\sigma(y_i X_i \\beta) \\big)+  \\lambda\\| \\beta \\|_{\\ell_1}$$"
   ]
  },
  {
   "cell_type": "markdown",
   "metadata": {
    "id": "qSyz-PHYMuDn"
   },
   "source": [
    "## Simulation dans un modèle logistique"
   ]
  },
  {
   "cell_type": "markdown",
   "metadata": {
    "id": "1t7VFwjfMuDo"
   },
   "source": [
    "### Choix des valeurs de $n$ et $p$"
   ]
  },
  {
   "cell_type": "code",
   "execution_count": 1,
   "metadata": {
    "id": "7FsL9QAVMuDp"
   },
   "outputs": [],
   "source": [
    "n_features = 50\n",
    "n_samples = 2000"
   ]
  },
  {
   "cell_type": "markdown",
   "metadata": {
    "id": "llYB6leIMuDv"
   },
   "source": [
    "### Choix des valeurs de $\\beta^\\star$"
   ]
  },
  {
   "cell_type": "markdown",
   "metadata": {
    "id": "twiHovsJMuDw"
   },
   "source": [
    "On pose $\\beta^\\star_j = (-1)^{j-1} \\exp(-(j-1)/10)$."
   ]
  },
  {
   "cell_type": "code",
   "execution_count": 2,
   "metadata": {
    "colab": {
     "base_uri": "https://localhost:8080/",
     "height": 349
    },
    "id": "9BJj3g5GMuDx",
    "outputId": "a53b0938-8349-42fc-d117-400fe2dc572b"
   },
   "outputs": [
    {
     "name": "stderr",
     "output_type": "stream",
     "text": [
      "C:\\Users\\FireBee\\anaconda3\\envs\\tf\\lib\\site-packages\\ipykernel_launcher.py:9: UserWarning: In Matplotlib 3.3 individual lines on a stem plot will be added as a LineCollection instead of individual lines. This significantly improves the performance of a stem plot. To remove this warning and switch to the new behaviour, set the \"use_line_collection\" keyword argument to True.\n",
      "  if __name__ == '__main__':\n"
     ]
    },
    {
     "data": {
      "text/plain": [
       "Text(0.5, 1.0, 'Parameters')"
      ]
     },
     "execution_count": 2,
     "metadata": {},
     "output_type": "execute_result"
    },
    {
     "data": {
      "image/png": "[encoded data removed]",
      "text/plain": [
       "<Figure size 432x288 with 1 Axes>"
      ]
     },
     "metadata": {
      "needs_background": "light"
     },
     "output_type": "display_data"
    }
   ],
   "source": [
    "import numpy as np\n",
    "import matplotlib.pylab as plt\n",
    "\n",
    "%matplotlib inline\n",
    "idx = np.arange(n_features)\n",
    "\n",
    "params = (-1) ** idx  * np.exp(-idx / 10.)\n",
    "params[20:] = 0.\n",
    "plt.stem(params)\n",
    "plt.title(\"Parameters\")"
   ]
  },
  {
   "cell_type": "markdown",
   "metadata": {
    "id": "a00nBF10MuD1"
   },
   "source": [
    "### Simulation de la matrice X (features)"
   ]
  },
  {
   "cell_type": "code",
   "execution_count": 3,
   "metadata": {
    "id": "j6lRf_KFMuD2"
   },
   "outputs": [],
   "source": [
    "from numpy.random import multivariate_normal\n",
    "from scipy.linalg.special_matrices import toeplitz\n",
    "\n",
    "# Correlation\n",
    "rho = 0.1\n",
    "# Matrice de covariance Toeplitz\n",
    "\n",
    "np.set_printoptions(precision=2) # pour simplifier l'affichage\n",
    "cov = toeplitz(rho ** np.arange(0, n_features))\n",
    "\n",
    "# Simulation d'un vecteur gaussien de taille n \n",
    "#avec cette matrice de covariance\n",
    "features = multivariate_normal(np.zeros(n_features), \n",
    "                               cov, size=n_samples)"
   ]
  },
  {
   "cell_type": "markdown",
   "metadata": {
    "id": "r8miG6KYMuD6"
   },
   "source": [
    "### Simulations des $y_i$"
   ]
  },
  {
   "cell_type": "markdown",
   "metadata": {
    "id": "1hvALC1IMuD7"
   },
   "source": [
    "Coder une fonction **sigmoïd**. Attention aux overflows possibles !"
   ]
  },
  {
   "cell_type": "code",
   "execution_count": 4,
   "metadata": {
    "id": "igYhm7H7MuD7"
   },
   "outputs": [],
   "source": [
    "def sigmoid(u):\n",
    "    \"\"\"\n",
    "    u np.array\n",
    "    \"\"\"\n",
    "    idx = u>0\n",
    "    out = np.empty(u.size)\n",
    "    out[idx] = 1 / (1+ np.exp(-u[idx]))\n",
    "    exp_u = np.exp(u[~idx])\n",
    "    out[~idx] = exp_u / (1+ exp_u)\n",
    "    return(out)"
   ]
  },
  {
   "cell_type": "code",
   "execution_count": 5,
   "metadata": {
    "colab": {
     "base_uri": "https://localhost:8080/",
     "height": 32
    },
    "id": "YjCsXWk6NHHi",
    "outputId": "3bc35208-0aaf-4788-980c-6c82130c7793"
   },
   "outputs": [
    {
     "data": {
      "text/plain": [
       "array([0.5])"
      ]
     },
     "execution_count": 5,
     "metadata": {},
     "output_type": "execute_result"
    }
   ],
   "source": [
    "sigmoid(np.array([0]))"
   ]
  },
  {
   "cell_type": "markdown",
   "metadata": {
    "id": "2CemCGlEMuD9"
   },
   "source": [
    "Coder une fonction **simu_log_reg** qui pour $n$, $\\beta^\\star$ et $\\rho$ renvoie une matrice de features et un vecteur de labels."
   ]
  },
  {
   "cell_type": "code",
   "execution_count": 6,
   "metadata": {
    "id": "FtuC8ZLcMuD9"
   },
   "outputs": [],
   "source": [
    "from numpy.random import binomial"
   ]
  },
  {
   "cell_type": "code",
   "execution_count": 7,
   "metadata": {
    "id": "YvTJfy4VMuD_"
   },
   "outputs": [],
   "source": [
    "def simu_logreg(n_samples,params=params,rho=0.1):\n",
    "    \"\"\" simulation in a logistic regression model \n",
    "    \n",
    "    Parameters\n",
    "    ----------\n",
    "    coefs : `numpy.array`, shape=(n_features,)\n",
    "        Coefficients of the model\n",
    "    n_samples : `int`, \n",
    "        Number of samples to simulate\n",
    "    rho : `float`, default=0.1\n",
    "        Correlation of the features\n",
    "    Returns\n",
    "    -------\n",
    "    X : `numpy.ndarray`, shape=(n_samples, n_features)\n",
    "    Simulated features matrix. It samples of a centered Gaussian\n",
    "    vector with covariance given by the Toeplitz matrix\n",
    "    y : `numpy.array`, shape=(n_samples,)\n",
    "                 Simulated labels\n",
    "    \"\"\"\n",
    "    n_features = params.size\n",
    "    \n",
    "    cov = toeplitz(rho ** np.arange(0, n_features))\n",
    "    \n",
    "    features = multivariate_normal(np.zeros(n_features), cov, size=n_samples)\n",
    "    \n",
    "    pis = sigmoid(features.dot(params))\n",
    "    \n",
    "    labels = 2 *  binomial(1,pis, n_samples) - 1\n",
    "    \n",
    "    return((features,labels))"
   ]
  },
  {
   "cell_type": "code",
   "execution_count": 8,
   "metadata": {
    "colab": {
     "base_uri": "https://localhost:8080/",
     "height": 49
    },
    "id": "e42o_NwBMuEA",
    "outputId": "c9581c2a-5eef-42e3-c68b-97d7dd29e14f"
   },
   "outputs": [
    {
     "name": "stdout",
     "output_type": "stream",
     "text": [
      "(2000,)\n",
      "(2000, 50)\n"
     ]
    }
   ],
   "source": [
    "X,y = simu_logreg(2000)\n",
    "print(y.shape)\n",
    "print(X.shape)"
   ]
  },
  {
   "cell_type": "markdown",
   "metadata": {
    "id": "GixgUC9YMuET"
   },
   "source": [
    "# Descente de gradient proximal"
   ]
  },
  {
   "cell_type": "markdown",
   "metadata": {
    "id": "pIv4lss6MuET"
   },
   "source": [
    "On retourne au cas de la régression logistique pénalisée lasso."
   ]
  },
  {
   "cell_type": "markdown",
   "metadata": {
    "id": "zaiDW0qfjuQ2"
   },
   "source": [
    "On veut donc résoudre\n",
    "$$\n",
    "\\arg\\min_\\beta \\frac{1}{n}\\sum_{i=1}^n \\log\\big(1 + \\exp(-y_i X_i \\beta) \\big)+  \\lambda\\| \\beta \\|_{\\ell_1}\n",
    "$$"
   ]
  },
  {
   "cell_type": "markdown",
   "metadata": {
    "id": "QkGT2zL8MuET"
   },
   "source": [
    "- Faire une nouvelle classe **logreg_l1** sur le modèle de la classe **logreg** en ajoutant un méthode  qui calcule l'opérateur proximal de la norme 1 et en changeant la méthode objectif"
   ]
  },
  {
   "cell_type": "code",
   "execution_count": 9,
   "metadata": {
    "id": "WY2C3eoUMuEU"
   },
   "outputs": [],
   "source": [
    "from numpy.linalg import norm\n",
    "class Logreg_l1:\n",
    "    \"\"\"       \n",
    "    Parameters\n",
    "    ----------\n",
    "    X : `numpy.array`, shape=(n_samples,n_features)\n",
    "        features\n",
    "    y : `numpy.array`, shape=(n_samples,)\n",
    "        labels\n",
    "    lamb : `float`, \n",
    "        value of the regularization parameter\n",
    "    \"\"\"\n",
    "    def __init__(self,X,y,lamb):\n",
    "        self.X = X\n",
    "        self.y = y\n",
    "        self.lamb = lamb\n",
    "        self.n_samples, self.n_features = X.shape\n",
    "\n",
    "    def loss(self,w):\n",
    "        u = self.y * self.X.dot(w) \n",
    "        return -np.sum(np.log(sigmoid(u))) / self.n_samples\n",
    "\n",
    "    def grad(self,w):\n",
    "        u = self.y * self.X.dot(w) \n",
    "        return self.X.T.dot(self.y  * (sigmoid(u) - 1)) / self.n_samples\n",
    "\n",
    "    def pen(self,w):\n",
    "        return self.lamb * np.sum(np.abs(w))      \n",
    "    \n",
    "    def prox(self,w,step):\n",
    "        w_abs = np.abs(w)\n",
    "        return np.sign(w) * (w_abs - self.lamb *step) *( w_abs > self.lamb * step)\n",
    "    \n",
    "    def lip_const(self):\n",
    "        return (1/(4*self.n_samples)) * np.sum(norm(X,axis=0, ord =2))\n",
    "\n",
    "    def objective(self,w):\n",
    "        return(self.loss(w) + self.pen(w))\n",
    "  \n",
    "    def hessian(self,w):\n",
    "        u = self.y * self.X.dot(w)\n",
    "        var = sigmoid(u) * (1- sigmoid(u))\n",
    "        W = np.diag(var)\n",
    "        hessian = (1/self.n_samples) * self.X.T.dot(W).dot(self.X)\n",
    "        return hessian\n"
   ]
  },
  {
   "cell_type": "code",
   "execution_count": 10,
   "metadata": {
    "colab": {
     "base_uri": "https://localhost:8080/",
     "height": 49
    },
    "id": "Kg6nOUC_MuEV",
    "outputId": "6d4857e3-4e1f-4c0e-c454-1257a5957c33"
   },
   "outputs": [
    {
     "name": "stdout",
     "output_type": "stream",
     "text": [
      "(2000,)\n",
      "(2000, 50)\n"
     ]
    }
   ],
   "source": [
    "lamb=0.01\n",
    "print(y.shape)\n",
    "print(X.shape)\n",
    "model_logreg_l1 = Logreg_l1(X,y,lamb)"
   ]
  },
  {
   "cell_type": "code",
   "execution_count": 11,
   "metadata": {
    "colab": {
     "base_uri": "https://localhost:8080/",
     "height": 32
    },
    "id": "qP-X1xDWMuEW",
    "outputId": "a810ddbb-281a-41d0-8c2d-ed192b7022d2"
   },
   "outputs": [
    {
     "name": "stdout",
     "output_type": "stream",
     "text": [
      "1.600562369377751e-08\n"
     ]
    }
   ],
   "source": [
    "from scipy.optimize import check_grad\n",
    "print(check_grad(model_logreg_l1.loss, model_logreg_l1.grad, params))"
   ]
  },
  {
   "cell_type": "markdown",
   "metadata": {},
   "source": [
    "## Proximal gradient descent"
   ]
  },
  {
   "cell_type": "markdown",
   "metadata": {
    "id": "zKGjdmC4MuEX"
   },
   "source": [
    "Coder une fonction **pgd** qui code l'algorithme descente de gradient proximal (sur le modèle de la fonction **gd**)."
   ]
  },
  {
   "cell_type": "code",
   "execution_count": 12,
   "metadata": {
    "id": "CI-rHBcMMuEX"
   },
   "outputs": [],
   "source": [
    "def pgd(model, w0, step=None, n_iter=50, verbose=True):\n",
    "    \"\"\"Proximal gradient descent\n",
    "    \"\"\"\n",
    "    w = w0.copy()\n",
    "    w_new = w0.copy()\n",
    "    n_samples, n_features = model.X.shape\n",
    "    # objective history\n",
    "    objectives = []\n",
    "    # Current objective\n",
    "    obj = model.objective(w) \n",
    "    objectives.append(obj) \n",
    "    if verbose:\n",
    "        print(\"Lauching PGD solver...\")\n",
    "        print(' | '.join([name.center(8) for name in [\"it\", \"obj\"]])) \n",
    "    for k in range(n_iter + 1):\n",
    "        if step == None:\n",
    "            step = 1 / (model.lip_const())\n",
    "    #######################################################################\n",
    "        w_new[:] =  model.prox( w- step * model.grad(w) , step )\n",
    "        w[:] = w_new\n",
    "    #######################################################################\n",
    "        obj = model.objective(w) \n",
    "        objectives.append(obj)\n",
    "        if k % 10 == 0 and verbose:\n",
    "            print(' | '.join([(\"%d\" % k).rjust(8), (\"%.3e\" % obj).rjust(8)]))\n",
    "    return w, np.array(objectives)"
   ]
  },
  {
   "cell_type": "code",
   "execution_count": 13,
   "metadata": {
    "colab": {
     "base_uri": "https://localhost:8080/",
     "height": 148
    },
    "id": "QL6_ONglMuEY",
    "outputId": "7c5fffb0-6b80-4b39-c9b4-85c995781230"
   },
   "outputs": [
    {
     "name": "stdout",
     "output_type": "stream",
     "text": [
      "Lauching PGD solver...\n",
      "   it    |   obj   \n",
      "       0 | 5.511e-01\n",
      "      10 | 5.193e-01\n",
      "      20 | 5.192e-01\n",
      "      30 | 5.192e-01\n",
      "      40 | 5.192e-01\n",
      "      50 | 5.192e-01\n"
     ]
    }
   ],
   "source": [
    "w0 = np.zeros(n_features)\n",
    "n_iter = 50\n",
    "w_pgd , obj_pgd = pgd(model_logreg_l1, w0, n_iter=50)"
   ]
  },
  {
   "cell_type": "markdown",
   "metadata": {},
   "source": [
    "Coder un arrêt prematuré quand $tol = 1e-03 > \\|w_{\\text{new}} - w\\|/\\|w\\|$"
   ]
  },
  {
   "cell_type": "code",
   "execution_count": 14,
   "metadata": {},
   "outputs": [],
   "source": [
    "def pgd2(model, w0, step=None, n_iter=50, verbose=True, tol=1e-03):\n",
    "    \"\"\"Proximal gradient descent\n",
    "    \"\"\"\n",
    "    w = w0.copy()\n",
    "    w_new = w0.copy()\n",
    "    n_samples, n_features = model.X.shape\n",
    "    # objective history\n",
    "    objectives = []\n",
    "    # Current objective\n",
    "    obj = model.objective(w) \n",
    "    objectives.append(obj) \n",
    "    if verbose:\n",
    "        print(\"Lauching PGD solver...\")\n",
    "        print(' | '.join([name.center(8) for name in [\"it\", \"obj\"]]))\n",
    "    if step == None:\n",
    "            step = 1 / (model.lip_const())\n",
    "    for k in range(n_iter + 1):\n",
    "    #######################################################################\n",
    "        w_new[:] =  model.prox( w- step * model.grad(w) , step )\n",
    "        if (np.sum(np.abs(w_new-w))/np.sum(np.abs(w))< tol):\n",
    "            break\n",
    "        w[:] = w_new\n",
    "    #######################################################################\n",
    "        obj = model.objective(w) \n",
    "        objectives.append(obj)\n",
    "        if k % 10 == 0 and verbose:\n",
    "            print(' | '.join([(\"%d\" % k).rjust(8), (\"%.3e\" % obj).rjust(8)]))\n",
    "    return w, np.array(objectives)\n"
   ]
  },
  {
   "cell_type": "code",
   "execution_count": 15,
   "metadata": {},
   "outputs": [
    {
     "name": "stdout",
     "output_type": "stream",
     "text": [
      "Lauching PGD solver...\n",
      "   it    |   obj   \n",
      "       0 | 5.511e-01\n",
      "      10 | 5.193e-01\n"
     ]
    },
    {
     "name": "stderr",
     "output_type": "stream",
     "text": [
      "C:\\Users\\FireBee\\anaconda3\\envs\\tf\\lib\\site-packages\\ipykernel_launcher.py:20: RuntimeWarning: divide by zero encountered in double_scalars\n"
     ]
    }
   ],
   "source": [
    "w0 = np.zeros(n_features)\n",
    "w_pgd2 , obj_pgd2 = pgd2(model_logreg_l1,w0)"
   ]
  },
  {
   "cell_type": "markdown",
   "metadata": {
    "id": "Dfg1foLlMuEf"
   },
   "source": [
    "# ADMM "
   ]
  },
  {
   "cell_type": "markdown",
   "metadata": {
    "id": "YbdALxqNMuEf"
   },
   "source": [
    "- Coder un algorithme ADMM pour ce problème\n",
    "- Comparer ses performances au PGD classique et au SPGD"
   ]
  },
  {
   "cell_type": "markdown",
   "metadata": {},
   "source": [
    "On veut$$\n",
    "\\arg\\min_\\beta \\frac{1}{n}\\sum_{i=1}^n \\log\\big(1 + \\exp(-y_i X_i \\beta) \\big)+  \\lambda\\| \\beta \\|_{\\ell_1}\n",
    "$$\n",
    "Dans ce cas là, en utilisant ADMM, on a le problème d'optimization suivant:\n",
    "$$\n",
    "\\arg\\min_\\beta \\frac{1}{n}\\sum_{i=1}^n \\log\\big(1 + \\exp(-y_i X_i \\beta) \\big)+  \\lambda\\| z \\|_{\\ell_1}\n",
    "$$\n",
    "$$ \\text{subject to } \\beta = z$$\n",
    "\n",
    "\n",
    "On a \n",
    "$$\\beta^{(k+1)} = \\arg\\min_\\beta \\frac{1}{n}\\sum_{i=1}^n \\log\\big(1 + \\exp(-y_i X_i \\beta) \\big)+{\\rho/2 }\\|(\\beta ^{(k)}-z^{(k)}+u^{(k)}\\|_{\\ell_2}$$\n",
    "$$z^{(k+1)} = \\arg\\min_z \\lambda\\| \\beta \\|_{\\ell_1}+{\\rho/2 }\\|(\\beta ^{(k+1)}-z^{(k)}+u^{(k)}\\|_{\\ell_2}\n",
    " = S_{\\lambda /\\rho}(\\beta^{(k+1)}+u^{(k)})$$\n",
    "$$u^{(k+1)} = u^{(k)} + \\beta^{(k+1)} - z^{(k+1)}$$\n"
   ]
  },
  {
   "cell_type": "markdown",
   "metadata": {},
   "source": [
    "On calcule $\\beta^{(k+1)}$ par le méthode de Newton \n",
    "$$\\beta^{(k+1)} = \\beta^{(k)} - ({\\rho}Id + \\nabla^2_f (\\beta^{(k)}))^{-1}(\\nabla f(\\beta^{(k)}) + {\\rho/2}(\\beta^{(k)}-z^{(k)}+u^{(k)}))$$\n",
    "\n",
    "Et calcule $z^{(k+1)}$ en utilisant la fonction **prox** dans la classe **Logreg_l1**.\n",
    "\n",
    "Le **step**, dans l'ADMM c'est ${\\rho}$ soit fixe ou varié."
   ]
  },
  {
   "cell_type": "code",
   "execution_count": 16,
   "metadata": {},
   "outputs": [],
   "source": [
    "def admm(model, w0, step=None, n_iter=50, verbose=True, tol=1e-04, update_step=True):\n",
    "    \"\"\"Proximal gradient descent\n",
    "    \"\"\"\n",
    "    w = w0.copy()\n",
    "    z = w0.copy()\n",
    "    u = w0.copy()\n",
    "    w_new = w0.copy()\n",
    "\n",
    "    n_samples, n_features = model.X.shape\n",
    "    # objective history\n",
    "    objectives = []\n",
    "    # Current objective\n",
    "    obj = model.objective(w) \n",
    "    objectives.append(obj) \n",
    "    if verbose:\n",
    "        print(\"Lauching GD solver...\")\n",
    "        print(' | '.join([name.center(8) for name in [\"it\", \"obj\"]])) \n",
    "    if step == None:\n",
    "        step = 1 / model.lip_const()\n",
    "    for k in range(n_iter + 1):\n",
    "    #######################################################################\n",
    "        invHessian = np.linalg.inv(model.hessian(w)+1/step*np.eye(len(w0)))\n",
    "        w_new = w - invHessian.dot(model.grad(w)+1/step*(w-z+u))\n",
    "        z_new = model.prox(w_new + u, step)\n",
    "        u = u + w_new - z_new\n",
    "        \n",
    "        ############################### Update step ###############################\n",
    "        if update_step == True:\n",
    "            if (np.linalg.norm(w_new - z_new) > 15/step*np.linalg.norm(z_new - z)):\n",
    "                step = step / 2\n",
    "            elif (15*np.linalg.norm(w_new - z_new) < 1/step*np.linalg.norm(z_new - z)):\n",
    "                step = step * 2\n",
    "        ###########################################################################\n",
    "        \n",
    "        if (np.sum(np.abs(w_new-w))/np.sum(np.abs(w))< tol):\n",
    "            break\n",
    "            \n",
    "        w[:] = w_new\n",
    "        z[:] = z_new\n",
    "        \n",
    "    #######################################################################\n",
    "        obj = model.objective(w) \n",
    "        objectives.append(obj)\n",
    "        if k % 10 == 0 and verbose:\n",
    "            print(' | '.join([(\"%d\" % k).rjust(8), (\"%.3e\" % obj).rjust(8)]))\n",
    "    return w, np.array(objectives)"
   ]
  },
  {
   "cell_type": "code",
   "execution_count": 17,
   "metadata": {},
   "outputs": [
    {
     "name": "stdout",
     "output_type": "stream",
     "text": [
      "Lauching GD solver...\n",
      "   it    |   obj   \n",
      "       0 | 5.850e-01\n"
     ]
    },
    {
     "name": "stderr",
     "output_type": "stream",
     "text": [
      "C:\\Users\\FireBee\\anaconda3\\envs\\tf\\lib\\site-packages\\ipykernel_launcher.py:35: RuntimeWarning: divide by zero encountered in double_scalars\n"
     ]
    },
    {
     "name": "stdout",
     "output_type": "stream",
     "text": [
      "      10 | 5.196e-01\n",
      "      20 | 5.192e-01\n",
      "      30 | 5.192e-01\n"
     ]
    }
   ],
   "source": [
    "w0 = np.zeros(n_features)\n",
    "w_admm , obj_admm = admm(model_logreg_l1,w0, n_iter=50, verbose=True)"
   ]
  },
  {
   "cell_type": "code",
   "execution_count": 18,
   "metadata": {},
   "outputs": [
    {
     "name": "stdout",
     "output_type": "stream",
     "text": [
      "Lauching GD solver...\n",
      "   it    |   obj   \n",
      "       0 | 5.850e-01\n"
     ]
    },
    {
     "name": "stderr",
     "output_type": "stream",
     "text": [
      "C:\\Users\\FireBee\\anaconda3\\envs\\tf\\lib\\site-packages\\ipykernel_launcher.py:35: RuntimeWarning: divide by zero encountered in double_scalars\n"
     ]
    },
    {
     "name": "stdout",
     "output_type": "stream",
     "text": [
      "      10 | 5.196e-01\n",
      "      20 | 5.192e-01\n",
      "      30 | 5.192e-01\n"
     ]
    }
   ],
   "source": [
    "w0 = np.zeros(n_features)\n",
    "mu = 10\n",
    "t_incr = 2\n",
    "t_decr = 2\n",
    "w_admm2 , obj_admm2 = admm(model_logreg_l1,w0, n_iter=50, verbose=True, update_step=False)"
   ]
  },
  {
   "cell_type": "code",
   "execution_count": 19,
   "metadata": {},
   "outputs": [
    {
     "data": {
      "image/png": "[encoded data removed]",
      "text/plain": [
       "<Figure size 432x360 with 1 Axes>"
      ]
     },
     "metadata": {
      "needs_background": "light"
     },
     "output_type": "display_data"
    }
   ],
   "source": [
    "plt.figure(figsize=(6, 5))\n",
    "plt.yscale(\"log\")\n",
    "plt.plot(obj_admm2 , label=\"ADMM\", lw=2)\n",
    "plt.plot(obj_admm , label=\"ADMM_update_step\", lw=2)\n",
    "plt.plot(obj_pgd , label=\"PGD\", lw=2) \n",
    "plt.ylabel(r\"$F(x_k)$\", fontsize=16) \n",
    "plt.legend(loc='lower right')\n",
    "plt.title('Objectif')\n",
    "plt.xlim((0, n_iter))\n",
    "plt.tight_layout()"
   ]
  },
  {
   "cell_type": "markdown",
   "metadata": {},
   "source": [
    "Dans ce problem, avec la valeur par défaut de step: **step = 1/lip_const**, on peut voir que le PGD converge plus vite que les ADMM. On teste avec la valeur de step plus petite: **step = 1/(lip_const*10)**"
   ]
  },
  {
   "cell_type": "code",
   "execution_count": 20,
   "metadata": {},
   "outputs": [
    {
     "name": "stdout",
     "output_type": "stream",
     "text": [
      "Lauching PGD solver...\n",
      "   it    |   obj   \n",
      "       0 | 6.719e-01\n",
      "      10 | 5.699e-01\n",
      "      20 | 5.407e-01\n",
      "      30 | 5.295e-01\n",
      "      40 | 5.245e-01\n",
      "      50 | 5.221e-01\n"
     ]
    }
   ],
   "source": [
    "w0 = np.zeros(n_features)\n",
    "step = 1 / (10*model_logreg_l1.lip_const())\n",
    "w_pgd , obj_pgd = pgd(model_logreg_l1, w0, step, n_iter=50)"
   ]
  },
  {
   "cell_type": "code",
   "execution_count": 21,
   "metadata": {},
   "outputs": [
    {
     "name": "stdout",
     "output_type": "stream",
     "text": [
      "Lauching GD solver...\n",
      "   it    |   obj   \n",
      "       0 | 6.707e-01\n"
     ]
    },
    {
     "name": "stderr",
     "output_type": "stream",
     "text": [
      "C:\\Users\\FireBee\\anaconda3\\envs\\tf\\lib\\site-packages\\ipykernel_launcher.py:35: RuntimeWarning: divide by zero encountered in double_scalars\n"
     ]
    },
    {
     "name": "stdout",
     "output_type": "stream",
     "text": [
      "      10 | 5.233e-01\n",
      "      20 | 5.193e-01\n",
      "      30 | 5.192e-01\n",
      "      40 | 5.192e-01\n"
     ]
    }
   ],
   "source": [
    "w_admm , obj_admm = admm(model_logreg_l1, w0, step, n_iter=50, verbose=True)"
   ]
  },
  {
   "cell_type": "code",
   "execution_count": 22,
   "metadata": {},
   "outputs": [
    {
     "name": "stdout",
     "output_type": "stream",
     "text": [
      "Lauching GD solver...\n",
      "   it    |   obj   \n",
      "       0 | 6.707e-01\n"
     ]
    },
    {
     "name": "stderr",
     "output_type": "stream",
     "text": [
      "C:\\Users\\FireBee\\anaconda3\\envs\\tf\\lib\\site-packages\\ipykernel_launcher.py:35: RuntimeWarning: divide by zero encountered in double_scalars\n"
     ]
    },
    {
     "name": "stdout",
     "output_type": "stream",
     "text": [
      "      10 | 5.737e-01\n",
      "      20 | 5.430e-01\n",
      "      30 | 5.308e-01\n",
      "      40 | 5.253e-01\n",
      "      50 | 5.225e-01\n"
     ]
    }
   ],
   "source": [
    "w_admm2 , obj_admm2 = admm(model_logreg_l1, w0, step,n_iter=50, verbose=True, update_step=False)"
   ]
  },
  {
   "cell_type": "code",
   "execution_count": 23,
   "metadata": {},
   "outputs": [
    {
     "data": {
      "image/png": "[encoded data removed]",
      "text/plain": [
       "<Figure size 432x360 with 1 Axes>"
      ]
     },
     "metadata": {
      "needs_background": "light"
     },
     "output_type": "display_data"
    }
   ],
   "source": [
    "plt.figure(figsize=(6, 5))\n",
    "plt.yscale(\"log\")\n",
    "plt.plot(obj_admm2 , label=\"ADMM\", lw=2)\n",
    "plt.plot(obj_admm , label=\"ADMM_update_step\", lw=2)\n",
    "plt.plot(obj_pgd , label=\"PGD\", lw=2) \n",
    "plt.ylabel(r\"$F(x_k)$\", fontsize=16) \n",
    "plt.legend(loc='lower right')\n",
    "plt.title('Objectif')\n",
    "plt.xlim((0, n_iter))\n",
    "plt.tight_layout()"
   ]
  },
  {
   "cell_type": "markdown",
   "metadata": {},
   "source": [
    "Le PGD converge encore plus vite que le ADMM avec le **step** constant. \n",
    "Mais le ADMM avec le **step** mise à jour à chaque itération, il a montré de l'avantage dans ce cas."
   ]
  }
 ],
 "metadata": {
  "colab": {
   "collapsed_sections": [],
   "name": "TPoptimisation-Sujet.ipynb",
   "provenance": []
  },
  "kernelspec": {
   "display_name": "Python 3 (ipykernel)",
   "language": "python",
   "name": "python3"
  },
  "language_info": {
   "codemirror_mode": {
    "name": "ipython",
    "version": 3
   },
   "file_extension": ".py",
   "mimetype": "text/x-python",
   "name": "python",
   "nbconvert_exporter": "python",
   "pygments_lexer": "ipython3",
   "version": "3.9.7"
  }
 },
 "nbformat": 4,
 "nbformat_minor": 1
}
